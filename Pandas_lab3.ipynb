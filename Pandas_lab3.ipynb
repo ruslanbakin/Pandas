{
  "nbformat": 4,
  "nbformat_minor": 0,
  "metadata": {
    "colab": {
      "provenance": [],
      "authorship_tag": "ABX9TyOb8N4RivySmPnabtIEAT/x",
      "include_colab_link": true
    },
    "kernelspec": {
      "name": "python3",
      "display_name": "Python 3"
    },
    "language_info": {
      "name": "python"
    }
  },
  "cells": [
    {
      "cell_type": "markdown",
      "metadata": {
        "id": "view-in-github",
        "colab_type": "text"
      },
      "source": [
        "<a href=\"https://colab.research.google.com/github/ruslanbakin/Pandas/blob/main/Pandas_lab3.ipynb\" target=\"_parent\"><img src=\"https://colab.research.google.com/assets/colab-badge.svg\" alt=\"Open In Colab\"/></a>"
      ]
    },
    {
      "cell_type": "markdown",
      "source": [
        "Сортировка 1. Товарная группа, Товар"
      ],
      "metadata": {
        "id": "A09FIjnbyPe2"
      }
    },
    {
      "cell_type": "code",
      "execution_count": null,
      "metadata": {
        "id": "wTvl1rOXl2ec",
        "colab": {
          "base_uri": "https://localhost:8080/"
        },
        "outputId": "7981fcd0-adc0-48ce-9809-b7d574e2a3cd"
      },
      "outputs": [
        {
          "output_type": "stream",
          "name": "stdout",
          "text": [
            "                                       ТоварНаименование Дата продажи  \\\n",
            "0      Адреналина гидрохлорида раствор 0,1% р-р д/ин....   2008-12-23   \n",
            "6096   Бронхитусен Врамед сироп фл.пластик. 125 г кор...   2009-02-04   \n",
            "14478  Оринол Плюс капс. бл. 10 пач.картон. 1 Sagmel,...   2008-12-11   \n",
            "14479  Оринол Плюс капс. бл. 10 пач.картон. 1 Sagmel,...   2008-12-11   \n",
            "14480  Оринол Плюс капс. бл. 10 пач.картон. 1 Sagmel,...   2008-12-19   \n",
            "...                                                  ...          ...   \n",
            "2898   Бетиол супп.рект. уп.контурн.яч. 5 пач.картон....   2008-12-30   \n",
            "2899   Бетиол супп.рект. уп.контурн.яч. 5 пач.картон....   2009-01-03   \n",
            "2900   Бетиол супп.рект. уп.контурн.яч. 5 пач.картон....   2009-01-16   \n",
            "2901   Бетиол супп.рект. уп.контурн.яч. 5 пач.картон....   2009-01-23   \n",
            "2902   Бетиол супп.рект. уп.контурн.яч. 5 пач.картон....   2009-02-13   \n",
            "\n",
            "       Продажи.ТоварКод  ОтделКод  Час покупки  Количество   Сумма  \\\n",
            "0                    35         1           19           2   66.85   \n",
            "6096              17308         3           17           1   42.16   \n",
            "14478             51851         2           16           1  132.17   \n",
            "14479             51851         2           21           1  124.92   \n",
            "14480             51851         3           18           1  138.31   \n",
            "...                 ...       ...          ...         ...     ...   \n",
            "2898              14689         2           12           1   39.31   \n",
            "2899              14689         3           15           1   39.98   \n",
            "2900              14689         1           19           1   37.81   \n",
            "2901              14689         1           13           1   37.81   \n",
            "2902              14689         3           12           1   39.98   \n",
            "\n",
            "                                          Группа  \\\n",
            "0      Адрено- и симпатомиметики (альфа-, бета-)   \n",
            "6096   Адрено- и симпатомиметики (альфа-, бета-)   \n",
            "14478  Адрено- и симпатомиметики (альфа-, бета-)   \n",
            "14479  Адрено- и симпатомиметики (альфа-, бета-)   \n",
            "14480  Адрено- и симпатомиметики (альфа-, бета-)   \n",
            "...                                          ...   \n",
            "2898                              м-Холинолитики   \n",
            "2899                              м-Холинолитики   \n",
            "2900                              м-Холинолитики   \n",
            "2901                              м-Холинолитики   \n",
            "2902                              м-Холинолитики   \n",
            "\n",
            "                                 Товарная группа  \n",
            "0      Адрено- и симпатомиметики (альфа-, бета-)  \n",
            "6096   Адрено- и симпатомиметики (альфа-, бета-)  \n",
            "14478  Адрено- и симпатомиметики (альфа-, бета-)  \n",
            "14479  Адрено- и симпатомиметики (альфа-, бета-)  \n",
            "14480  Адрено- и симпатомиметики (альфа-, бета-)  \n",
            "...                                          ...  \n",
            "2898                              м-Холинолитики  \n",
            "2899                              м-Холинолитики  \n",
            "2900                              м-Холинолитики  \n",
            "2901                              м-Холинолитики  \n",
            "2902                              м-Холинолитики  \n",
            "\n",
            "[26989 rows x 9 columns]\n"
          ]
        }
      ],
      "source": [
        "import numpy as np\n",
        "import pandas as pd\n",
        "\n",
        "data = pd.read_excel('Medicines.xlsx')\n",
        "\n",
        "new_data = data.sort_values(by = ['Товарная группа','ТоварНаименование'])\n",
        "print(new_data)"
      ]
    },
    {
      "cell_type": "markdown",
      "source": [
        "1. Количество продаж каждого лекарства\n"
      ],
      "metadata": {
        "id": "1dO6BnOoyV1-"
      }
    },
    {
      "cell_type": "code",
      "source": [
        "import pandas as pd\n",
        "\n",
        "data = pd.read_excel('Medicines.xlsx')\n",
        "\n",
        "summed_data = data.groupby('ТоварНаименование')['Продажи.ТоварКод'].sum().reset_index(name='Общее количество')\n",
        "\n",
        "print(summed_data)"
      ],
      "metadata": {
        "colab": {
          "base_uri": "https://localhost:8080/"
        },
        "id": "xfp7cz7cxpcy",
        "outputId": "e71d422b-067b-4eb8-9de7-33c3b4dc1e09"
      },
      "execution_count": null,
      "outputs": [
        {
          "output_type": "stream",
          "name": "stdout",
          "text": [
            "                                      ТоварНаименование  Общее количество\n",
            "0     АЦЦ 100 гран.д/р-ра для приема внутрь 100 мг п...            754374\n",
            "1      АЦЦ 100 табл.шип. 100 мг туба 20 кор. 1 Hexal AG             11594\n",
            "2      АЦЦ 200 табл.шип. 200 мг туба 20 кор. 1 Hexal AG             18522\n",
            "3     АЦЦ гран.д/р-ра для приема внутрь 200 мг пак. ...           8170767\n",
            "4     АЦЦ гран.д/р-ра для приема внутрь 600 мг пак. ...            577738\n",
            "...                                                 ...               ...\n",
            "1109  Эплан линим. тюб.-кап. 20 мл Оберон НПП/ГОСНИИОХТ            340896\n",
            "1110  Эссливер форте капс. уп.контурн.яч. 10 кор. 5 ...            971472\n",
            "1111  Юникап М - новая формула табл.п.о. фл.пластик....            163856\n",
            "1112  Юникап Т - новая формула табл.п.о. фл.пластик....             81932\n",
            "1113  Янтавит табл. 0,5 г уп.контурн.яч. 10 пач.карт...            984336\n",
            "\n",
            "[1114 rows x 2 columns]\n"
          ]
        }
      ]
    },
    {
      "cell_type": "markdown",
      "source": [
        "2. Количество продаж по годам и месяцам"
      ],
      "metadata": {
        "id": "E1kjSKVf3oKI"
      }
    },
    {
      "cell_type": "code",
      "source": [
        "import pandas as pd\n",
        "data = pd.read_excel('Medicines.xlsx')\n",
        "\n",
        "data['Дата продажи'] = pd.to_datetime(data['Дата продажи'])\n",
        "\n",
        "data['Год'] = data['Дата продажи'].dt.year\n",
        "data['Месяц'] = data['Дата продажи'].dt.month\n",
        "\n",
        "sales_by_year_month_product = data.groupby(['Год', 'Месяц', 'ТоварНаименование'])['Продажи.ТоварКод'].sum().reset_index(name='Количество продаж').sort_values(by = ['Год','Месяц'],ascending= True)\n",
        "\n",
        "print(sales_by_year_month_product)\n",
        "sales_by_year_month_product.to_excel('x.xlsx', index = False)"
      ],
      "metadata": {
        "colab": {
          "base_uri": "https://localhost:8080/"
        },
        "id": "Rh-Va8qU3uAr",
        "outputId": "f52c7252-0196-4aeb-d8c3-8425fa1722b3"
      },
      "execution_count": null,
      "outputs": [
        {
          "output_type": "stream",
          "name": "stdout",
          "text": [
            "       Год  Месяц                                  ТоварНаименование  \\\n",
            "0     2008     12  АЦЦ 100 гран.д/р-ра для приема внутрь 100 мг п...   \n",
            "1     2008     12   АЦЦ 100 табл.шип. 100 мг туба 20 кор. 1 Hexal AG   \n",
            "2     2008     12   АЦЦ 200 табл.шип. 200 мг туба 20 кор. 1 Hexal AG   \n",
            "3     2008     12  АЦЦ гран.д/р-ра для приема внутрь 200 мг пак. ...   \n",
            "4     2008     12  АЦЦ гран.д/р-ра для приема внутрь 600 мг пак. ...   \n",
            "...    ...    ...                                                ...   \n",
            "2524  2009      3  Цианокобаламин р-р д/ин. 0,05 % амп. 1 мл пач....   \n",
            "2525  2009      3  Циннаризин табл. 25 мг уп.контурн.яч. 50 пач.к...   \n",
            "2526  2009      3  Шалфея листья листья фильтр-пак. 1,5 г пач.кар...   \n",
            "2527  2009      3       Эвкалипт табл.д/рассас. уп. 12 Natur Product   \n",
            "2528  2009      3         Энтеросгель гель пак.ПЭ 225 г кор. 1 СИЛМА   \n",
            "\n",
            "      Количество продаж  \n",
            "0                230148  \n",
            "1                  4092  \n",
            "2                  7546  \n",
            "3               3136254  \n",
            "4                247602  \n",
            "...                 ...  \n",
            "2524              76031  \n",
            "2525              76470  \n",
            "2526              84843  \n",
            "2527              85033  \n",
            "2528              80351  \n",
            "\n",
            "[2529 rows x 4 columns]\n"
          ]
        }
      ]
    },
    {
      "cell_type": "markdown",
      "source": [
        "1. Продажи аспирина в 2008 г."
      ],
      "metadata": {
        "id": "9EnpoTMH4mwp"
      }
    },
    {
      "cell_type": "code",
      "source": [
        "import pandas as pd\n",
        "\n",
        "data = pd.read_excel('Medicines.xlsx')\n",
        "\n",
        "data['Дата продажи'] = pd.to_datetime(data['Дата продажи'])\n",
        "\n",
        "aspirin_sales_2008_500mg = data[(data['ТоварНаименование'] == 'Аспирин табл. 500 мг бл. 10 кор. 2 Bayer C.C.') & (data['Дата продажи'].dt.year == 2008)]\n",
        "aspirin_sales_2008_100mg = data[(data['ТоварНаименование'] == 'Аспирин табл. 100 мг бл. 10 кор. 2 Bayer C.C.') & (data['Дата продажи'].dt.year == 2008)]\n",
        "\n",
        "if aspirin_sales_2008_500mg.empty and aspirin_sales_2008_100mg.empty:\n",
        "    print('Нет данных о продажах аспирина в 2008 году для указанных дозировок и наименований товаров.')\n",
        "else:\n",
        "    combined_aspirin_sales_2008 = pd.concat([aspirin_sales_2008_500mg, aspirin_sales_2008_100mg])\n",
        "\n",
        "    pivot_table_sales = combined_aspirin_sales_2008.pivot_table(index='Дата продажи', columns='ТоварНаименование', values='Количество', aggfunc='sum', fill_value=0)\n",
        "\n",
        "    pivot_table_sales = pivot_table_sales.reset_index()\n",
        "\n",
        "    print(pivot_table_sales)"
      ],
      "metadata": {
        "colab": {
          "base_uri": "https://localhost:8080/"
        },
        "id": "R1_q-7BcD7i1",
        "outputId": "cd421d13-771e-4925-dc82-1b55d0a9f0f8"
      },
      "execution_count": null,
      "outputs": [
        {
          "output_type": "stream",
          "name": "stdout",
          "text": [
            "Нет данных о продажах аспирина в 2008 году для указанных дозировок и наименований товаров.\n"
          ]
        }
      ]
    },
    {
      "cell_type": "markdown",
      "source": [
        "Продажи товаров на сумму более 10000\n"
      ],
      "metadata": {
        "id": "BhGYZn6-Fr16"
      }
    },
    {
      "cell_type": "code",
      "source": [
        "import pandas as pd\n",
        "\n",
        "data = pd.read_excel('Medicines.xlsx')\n",
        "\n",
        "sales_by_product = data.groupby('ТоварНаименование')['Количество'].sum().reset_index(name='Сумма продаж')\n",
        "\n",
        "high_sales_products = sales_by_product[sales_by_product['Сумма продаж'] > 10000]\n",
        "\n",
        "print(high_sales_products)"
      ],
      "metadata": {
        "colab": {
          "base_uri": "https://localhost:8080/"
        },
        "id": "r48zZf1xFxKD",
        "outputId": "075277fc-c074-44b5-a775-a4c95f309d3b"
      },
      "execution_count": null,
      "outputs": [
        {
          "output_type": "stream",
          "name": "stdout",
          "text": [
            "                                  ТоварНаименование  Сумма продаж\n",
            "164  Боярышника настойка настойка фл. 100 мл Росбио         17101\n"
          ]
        }
      ]
    },
    {
      "cell_type": "markdown",
      "source": [
        "1. Количество проданного аспирина в 2008 г."
      ],
      "metadata": {
        "id": "SANyGavRGyU3"
      }
    },
    {
      "cell_type": "code",
      "source": [
        "import pandas as pd\n",
        "\n",
        "data = pd.read_excel('Medicines.xlsx')\n",
        "\n",
        "data['Дата продажи'] = pd.to_datetime(data['Дата продажи'])\n",
        "\n",
        "aspirin_sales_2008 = data[(data['ТоварНаименование'] == 'Аспирин табл. 500 мг бл. 10 кор. 2 Bayer C.C.') |\n",
        "                          (data['ТоварНаименование'] == 'Аспирин табл. 100 мг бл. 10 кор. 2 Bayer C.C.') &\n",
        "                          (data['Дата продажи'].dt.year == 2008)]\n",
        "\n",
        "if aspirin_sales_2008['Дата продажи'].dt.year.unique() != 2008:\n",
        "    print('В 2008 году не было продаж аспирина.')\n",
        "else:\n",
        "    crosstab_sales = pd.crosstab(index=aspirin_sales_2008['Дата продажи'], columns=aspirin_sales_2008['ТоварНаименование'], values=aspirin_sales_2008['Количество'], aggfunc='sum')\n",
        "\n",
        "    crosstab_sales = crosstab_sales.fillna(0)\n",
        "\n",
        "    print(crosstab_sales)\n",
        "\n"
      ],
      "metadata": {
        "colab": {
          "base_uri": "https://localhost:8080/"
        },
        "id": "UMhMt06XG25R",
        "outputId": "28f13659-34a4-4cbe-bdbe-890f15d67103"
      },
      "execution_count": null,
      "outputs": [
        {
          "output_type": "stream",
          "name": "stdout",
          "text": [
            "В 2008 году не было продаж аспирина.\n"
          ]
        }
      ]
    },
    {
      "cell_type": "markdown",
      "source": [
        "2. Количество проданных Диуретиков"
      ],
      "metadata": {
        "id": "4AEbjbs2ODnf"
      }
    },
    {
      "cell_type": "code",
      "source": [
        "import pandas as pd\n",
        "\n",
        "data = pd.read_excel('Medicines.xlsx')\n",
        "\n",
        "data['Дата продажи'] = pd.to_datetime(data['Дата продажи'])\n",
        "\n",
        "diuretics_sales = data[data['Группа'] == 'Диуретики']\n",
        "\n",
        "crosstab_diuretics = pd.crosstab(index=diuretics_sales['Дата продажи'], columns=diuretics_sales['Группа'], values=diuretics_sales['Продажи.ТоварКод'], aggfunc='sum')\n",
        "\n",
        "crosstab_diuretics = crosstab_diuretics.fillna(0)\n",
        "\n",
        "print(crosstab_diuretics)\n"
      ],
      "metadata": {
        "colab": {
          "base_uri": "https://localhost:8080/"
        },
        "id": "YHSi5Po5OHdT",
        "outputId": "e3556ed5-e837-4038-a670-1e4b2af2ce2a"
      },
      "execution_count": null,
      "outputs": [
        {
          "output_type": "stream",
          "name": "stdout",
          "text": [
            "Группа        Диуретики\n",
            "Дата продажи           \n",
            "2008-12-01        94454\n",
            "2008-12-02       372054\n",
            "2008-12-03        98695\n",
            "2008-12-05       273631\n",
            "2008-12-06       318258\n",
            "...                 ...\n",
            "2009-02-24       596311\n",
            "2009-02-25       426623\n",
            "2009-02-26       371767\n",
            "2009-02-27       484167\n",
            "2009-02-28       324785\n",
            "\n",
            "[88 rows x 1 columns]\n"
          ]
        }
      ]
    },
    {
      "cell_type": "markdown",
      "source": [
        "3. Количество проданных товаров по часам\n",
        "работы"
      ],
      "metadata": {
        "id": "Ev1mZjOMQFoh"
      }
    },
    {
      "cell_type": "code",
      "source": [
        "import pandas as pd\n",
        "\n",
        "data = pd.read_excel('Medicines.xlsx')\n",
        "\n",
        "crosstab_hours = pd.crosstab(index=data['Час покупки'], columns='Количество покупок', values=data['Количество'], aggfunc='count')\n",
        "\n",
        "print(crosstab_hours)\n"
      ],
      "metadata": {
        "colab": {
          "base_uri": "https://localhost:8080/"
        },
        "id": "sDQgZ0KoQKFz",
        "outputId": "9e543b92-869d-45ce-ba5e-1471adb7b8b1"
      },
      "execution_count": null,
      "outputs": [
        {
          "output_type": "stream",
          "name": "stdout",
          "text": [
            "col_0        Количество покупок\n",
            "Час покупки                    \n",
            "8                            29\n",
            "9                          1063\n",
            "10                         1673\n",
            "11                         2231\n",
            "12                         2509\n",
            "13                         2669\n",
            "14                         2572\n",
            "15                         2495\n",
            "16                         2579\n",
            "17                         2581\n",
            "18                         2596\n",
            "19                         1996\n",
            "20                         1629\n",
            "21                          367\n"
          ]
        }
      ]
    }
  ]
}